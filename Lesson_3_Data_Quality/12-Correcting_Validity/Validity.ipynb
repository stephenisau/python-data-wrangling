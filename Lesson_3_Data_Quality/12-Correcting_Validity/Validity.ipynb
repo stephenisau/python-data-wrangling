{
 "cells": [
  {
   "cell_type": "code",
   "execution_count": 67,
   "metadata": {},
   "outputs": [],
   "source": [
    "import csv\n",
    "import pprint\n",
    "\n",
    "INPUT_FILE = 'autos.csv'\n",
    "OUTPUT_GOOD = 'autos-valid.csv'\n",
    "OUTPUT_BAD = 'FIXME-autos.csv'"
   ]
  },
  {
   "cell_type": "code",
   "execution_count": 1,
   "metadata": {},
   "outputs": [
    {
     "ename": "IndentationError",
     "evalue": "unindent does not match any outer indentation level (<ipython-input-1-456d14db38d2>, line 58)",
     "output_type": "error",
     "traceback": [
      "\u001b[0;36m  File \u001b[0;32m\"<ipython-input-1-456d14db38d2>\"\u001b[0;36m, line \u001b[0;32m58\u001b[0m\n\u001b[0;31m    with open(output_good, \"w\") as g:\u001b[0m\n\u001b[0m                                     ^\u001b[0m\n\u001b[0;31mIndentationError\u001b[0m\u001b[0;31m:\u001b[0m unindent does not match any outer indentation level\n"
     ]
    }
   ],
   "source": [
    "\"\"\"\n",
    "Your task is to check the \"productionStartYear\" of the DBPedia autos datafile for valid values.\n",
    "The following things should be done:\n",
    "- check if the field \"productionStartYear\" contains a year\n",
    "- check if the year is in range 1886-2014\n",
    "- convert the value of the field to be just a year (not full datetime)\n",
    "- the rest of the fields and values should stay the same\n",
    "- if the value of the field is a valid year in range, as described above,\n",
    "  write that line to the output_good file\n",
    "- if the value of the field is not a valid year, \n",
    "  write that line to the output_bad file\n",
    "- discard rows (neither write to good nor bad) if the URI is not from dbpedia.org\n",
    "- you should use the provided way of reading and writing data (DictReader and DictWriter)\n",
    "  They will take care of dealing with the header.\n",
    "\n",
    "You can write helper functions for checking the data and writing the files, but we will call only the \n",
    "'process_file' with 3 arguments (inputfile, output_good, output_bad).\n",
    "\"\"\"\n",
    "import csv\n",
    "import pprint\n",
    "\n",
    "INPUT_FILE = 'autos.csv'\n",
    "OUTPUT_GOOD = 'autos-valid.csv'\n",
    "OUTPUT_BAD = 'FIXME-autos.csv'\n",
    "\n",
    "def process_file(input_file, output_good, output_bad):\n",
    "\n",
    "\n",
    "        good_data = []\n",
    "        bad_data = []\n",
    "        with open(inpute_file,'r') as f:\n",
    "            reader = csv.DictReader(f)\n",
    "            header = reader.fieldnames#stores fieldnames into header\n",
    "            for row in reader:\n",
    "                if row['URI'].find(\"dbpedia.org\") < 0:\n",
    "                #if \"dbpedia.org\" in row[\"URI\"] also works\n",
    "                    continue\n",
    "                ps_year = row['productionStartYear'][:4]\n",
    "                #The format for the dates in the rows have\n",
    "                #year as the first 4 characters in the string.\n",
    "                #This line of code takes advantage of this fact\n",
    "                try:\n",
    "                    #this will replace the strings of data in the row with the truncated year string\n",
    "                    ps_year = int(ps_year)\n",
    "                    if (ps_year >= 1886) and (ps_year <= 2014):\n",
    "                        good_data.append(row)#if it falls in the range, append to good list\n",
    "                    else:\n",
    "                        bad_data.append(row)\n",
    "                except ValueError:#this exception encodes for the Null values\n",
    "                    if ps_year == \"NULL\":\n",
    "                        bad_data.append(row)\n",
    "        \n",
    "\n",
    "\n",
    "\n",
    "    # This is just an example on how you can use csv.DictWriter\n",
    "    # Remember that you have to output 2 files\n",
    "    with open(output_good, \"w\") as g:\n",
    "        writer = csv.DictWriter(g, delimiter=\",\", fieldnames= header)\n",
    "        writer.writeheader()\n",
    "        for row in YOURDATA:\n",
    "            writer.writerow(row)\n",
    "\n",
    "\n",
    "def test():\n",
    "\n",
    "    process_file(INPUT_FILE, OUTPUT_GOOD, OUTPUT_BAD)\n",
    "\n",
    "\n",
    "if __name__ == \"__main__\":\n",
    "    test()"
   ]
  },
  {
   "cell_type": "code",
   "execution_count": 2,
   "metadata": {},
   "outputs": [
    {
     "name": "stdout",
     "output_type": "stream",
     "text": [
      "http://dbpedia.org/ontology/productionStartYear\n",
      "XMLSchema#gYear\n",
      "http://www.w3.org/2001/XMLSchema#gYear\n",
      "1989-01-01T00:00:00+02:00\n",
      "1969-01-01T00:00:00+02:00\n",
      "1957-01-01T00:00:00+02:00\n",
      "1959-01-01T00:00:00+02:00\n",
      "2108-01-01T00:00:00+02:00\n",
      "1936-01-01T00:00:00+02:00\n",
      "1953-01-01T00:00:00+02:00\n",
      "2002-01-01T00:00:00+02:00\n",
      "2002-01-01T00:00:00+02:00\n",
      "1985-01-01T00:00:00+02:00\n",
      "1939-01-01T00:00:00+02:00\n",
      "1970-01-01T00:00:00+02:00\n",
      "1957-01-01T00:00:00+02:00\n",
      "1958-01-01T00:00:00+02:00\n",
      "1983-01-01T00:00:00+02:00\n",
      "1962-01-01T00:00:00+02:00\n",
      "1964-01-01T00:00:00+02:00\n",
      "0001-01-01T00:00:00+02:00\n",
      "1964-01-01T00:00:00+02:00\n",
      "1979-01-01T00:00:00+02:00\n",
      "1961-01-01T00:00:00+02:00\n",
      "1975-01-01T00:00:00+02:00\n",
      "1953-01-01T00:00:00+02:00\n",
      "NULL\n",
      "1978-01-01T00:00:00+02:00\n",
      "1908-01-01T00:00:00+02:00\n",
      "1994-01-01T00:00:00+02:00\n",
      "1955-01-01T00:00:00+02:00\n",
      "1927-01-01T00:00:00+02:00\n",
      "1951-01-01T00:00:00+02:00\n",
      "1979-01-01T00:00:00+02:00\n",
      "NULL\n",
      "1955-01-01T00:00:00+02:00\n",
      "2002-01-01T00:00:00+02:00\n",
      "1985-01-01T00:00:00+02:00\n",
      "1968-01-01T00:00:00+02:00\n",
      "1979-01-01T00:00:00+02:00\n",
      "1975-01-01T00:00:00+02:00\n",
      "1994-01-01T00:00:00+02:00\n",
      "1956-01-01T00:00:00+02:00\n",
      "1968-01-01T00:00:00+02:00\n",
      "1977-01-01T00:00:00+02:00\n",
      "1983-01-01T00:00:00+02:00\n",
      "2001-01-01T00:00:00+02:00\n",
      "1959-01-01T00:00:00+02:00\n",
      "1956-01-01T00:00:00+02:00\n"
     ]
    }
   ],
   "source": [
    "import csv\n",
    "import pprint\n",
    "\n",
    "INPUT_FILE = 'autos.csv'\n",
    "OUTPUT_GOOD = 'autos-valid.csv'\n",
    "OUTPUT_BAD = 'FIXME-autos.csv'\n",
    "\n",
    "with open(INPUT_FILE,'r') as f:\n",
    "    reader = csv.DictReader(f)\n",
    "    header = reader.fieldnames#stores fieldnames into header\n",
    "    for line in reader:\n",
    "        print(line['productionStartYear'])"
   ]
  },
  {
   "cell_type": "code",
   "execution_count": 6,
   "metadata": {},
   "outputs": [
    {
     "name": "stdout",
     "output_type": "stream",
     "text": [
      "URI\n",
      "URI\n",
      "http://www.w3.org/2002/07/owl#Thing\n",
      "http://dbpedia.org/resource/Mazda_MX-5\n",
      "http://dbpedia.org/resource/Nissan_Z-car\n",
      "http://dbpedia.org/resource/Lotus_Seven\n",
      "http://dbpedia.org/resource/Chaika_(car)\n",
      "http://dbpedia.org/resource/Lada_Samara\n",
      "http://dbpedia.org/resource/BMW_328\n",
      "http://dbpedia.org/resource/Green_Goddess\n",
      "http://dbpedia.org/resource/Porsche_Cayenne\n",
      "http://dbpedia.org/resource/Pontiac_Vibe\n",
      "http://dbpedia.org/resource/Ford_Taurus\n",
      "http://dbpedia.org/resource/Ford_Anglia\n",
      "http://dbpedia.org/resource/Toyota_Celica\n",
      "http://dbpedia.org/resource/Vespa_400\n",
      "http://dbpedia.org/resource/Edsel\n",
      "http://dbpedia.org/resource/Reliant_Fox\n",
      "http://dbpedia.org/resource/Ford_Cortina\n",
      "http://dbpedia.org/resource/Pontiac_GTO\n",
      "http://dbpedia.org/resource/Vauxhall_Viva\n",
      "http://dbpedia.org/resource/Reliant_Scimitar\n",
      "http://dbpedia.org/resource/Vauxhall_Astra\n",
      "http://dbpedia.org/resource/AC_Cobra\n",
      "http://dbpedia.org/resource/Volvo_66\n",
      "http://dbpedia.org/resource/Volvo_Duett\n",
      "http://dbpedia.org/resource/Saab_9-2\n",
      "http://dbpedia.org/resource/Saab_900\n",
      "http://dbpedia.org/resource/Chalmers_Automobile\n",
      "http://dbpedia.org/resource/Chevrolet_Impala\n",
      "http://dbpedia.org/resource/Ford_Crown_Victoria\n",
      "http://dbpedia.org/resource/BMW_Dixi\n",
      "http://dbpedia.org/resource/Toyota_Land_Cruiser\n",
      "http://dbpedia.org/resource/Volkswagen_Jetta\n",
      "http://dbpedia.org/resource/E-M-F_Company\n",
      "http://dbpedia.org/resource/Ford_Thunderbird\n",
      "http://dbpedia.org/resource/Toyota_Matrix\n",
      "http://dbpedia.org/resource/Honda_Integra\n",
      "http://dbpedia.org/resource/Plymouth_Road_Runner\n",
      "http://dbpedia.org/resource/Lancia_Delta\n",
      "http://dbpedia.org/resource/AMC_Pacer\n",
      "http://dbpedia.org/resource/Ford_Windstar\n",
      "http://dbpedia.org/resource/Ford_Parklane\n",
      "http://dbpedia.org/resource/Ford_Torino\n",
      "http://dbpedia.org/resource/Nissan_Maxima\n",
      "http://dbpedia.org/resource/Dodge_Caravan\n",
      "http://dbpedia.org/resource/Chevrolet_Avalanche\n",
      "http://dbpedia.org/resource/Saab_95\n",
      "http://dbpedia.org/resource/Volvo_P1900\n"
     ]
    }
   ],
   "source": [
    "\n",
    "with open(INPUT_FILE,'r') as f:\n",
    "    reader = csv.DictReader(f)\n",
    "    header = reader.fieldnames\n",
    "    for line in reader:\n",
    "        print(line['URI'])"
   ]
  },
  {
   "cell_type": "code",
   "execution_count": 5,
   "metadata": {},
   "outputs": [
    {
     "name": "stdout",
     "output_type": "stream",
     "text": [
      "URI\n",
      "rdf-schema#label\n",
      "rdf-schema#comment\n",
      "assembly_label\n",
      "assembly\n",
      "automobilePlatform_label\n",
      "automobilePlatform\n",
      "bodyStyle_label\n",
      "bodyStyle\n",
      "class_label\n",
      "class\n",
      "designCompany_label\n",
      "designCompany\n",
      "designer_label\n",
      "designer\n",
      "engine_label\n",
      "engine\n",
      "fuelCapacity\n",
      "height\n",
      "layout_label\n",
      "layout\n",
      "length\n",
      "manufacturer_label\n",
      "manufacturer\n",
      "modelEndYear\n",
      "modelStartYear\n",
      "parentCompany_label\n",
      "parentCompany\n",
      "predecessor_label\n",
      "predecessor\n",
      "productionEndDate\n",
      "productionEndYear\n",
      "productionStartDate\n",
      "productionStartYear\n",
      "relatedMeanOfTransportation_label\n",
      "relatedMeanOfTransportation\n",
      "sales_label\n",
      "sales\n",
      "successor_label\n",
      "successor\n",
      "thumbnail_label\n",
      "thumbnail\n",
      "transmission\n",
      "variantOf_label\n",
      "variantOf\n",
      "vehicle_label\n",
      "vehicle\n",
      "weight\n",
      "wheelbase\n",
      "width\n",
      "point\n",
      "22-rdf-syntax-ns#type_label\n",
      "22-rdf-syntax-ns#type\n",
      "wgs84_pos#lat\n",
      "wgs84_pos#long\n",
      "depiction_label\n",
      "depiction\n",
      "name\n"
     ]
    }
   ],
   "source": [
    "for i in header:\n",
    "    print(i)"
   ]
  },
  {
   "cell_type": "raw",
   "metadata": {},
   "source": [
    "Below is code I used to test out various parts of the function."
   ]
  },
  {
   "cell_type": "code",
   "execution_count": null,
   "metadata": {},
   "outputs": [],
   "source": [
    "good_output = []\n",
    "bad_output = []\n",
    "with open(INPUT_FILE, 'r') as fin:\n",
    "    reader = csv.DictReader(fin)\n",
    "    header = next(reader)\n",
    "    for row in reader:\n",
    "        if not \"dbpedia.org\" in row['URI']:\n",
    "            continue\n",
    "        year = row['productionStartYear'][:4]\n",
    "        try:\n",
    "            if 1886 < int(year) < 2014:\n",
    "                good_output.append(row)\n",
    "            else:\n",
    "                bad_output.append(row)\n",
    "        except ValueError:\n",
    "            if year == 'NULL':\n",
    "                bad_output.append(row)"
   ]
  },
  {
   "cell_type": "code",
   "execution_count": 40,
   "metadata": {},
   "outputs": [
    {
     "data": {
      "text/plain": [
       "OrderedDict([('URI', 'URI'),\n",
       "             ('rdf-schema#label',\n",
       "              'http://www.w3.org/2000/01/rdf-schema#label'),\n",
       "             ('rdf-schema#comment',\n",
       "              'http://www.w3.org/2000/01/rdf-schema#comment'),\n",
       "             ('assembly_label', 'http://dbpedia.org/ontology/assembly'),\n",
       "             ('assembly', 'http://dbpedia.org/ontology/assembly'),\n",
       "             ('automobilePlatform_label',\n",
       "              'http://dbpedia.org/ontology/automobilePlatform'),\n",
       "             ('automobilePlatform',\n",
       "              'http://dbpedia.org/ontology/automobilePlatform'),\n",
       "             ('bodyStyle_label', 'http://dbpedia.org/ontology/bodyStyle'),\n",
       "             ('bodyStyle', 'http://dbpedia.org/ontology/bodyStyle'),\n",
       "             ('class_label', 'http://dbpedia.org/ontology/class'),\n",
       "             ('class', 'http://dbpedia.org/ontology/class'),\n",
       "             ('designCompany_label',\n",
       "              'http://dbpedia.org/ontology/designCompany'),\n",
       "             ('designCompany', 'http://dbpedia.org/ontology/designCompany'),\n",
       "             ('designer_label', 'http://dbpedia.org/ontology/designer'),\n",
       "             ('designer', 'http://dbpedia.org/ontology/designer'),\n",
       "             ('engine_label', 'http://dbpedia.org/ontology/engine'),\n",
       "             ('engine', 'http://dbpedia.org/ontology/engine'),\n",
       "             ('fuelCapacity', 'http://dbpedia.org/ontology/fuelCapacity'),\n",
       "             ('height', 'http://dbpedia.org/ontology/height'),\n",
       "             ('layout_label', 'http://dbpedia.org/ontology/layout'),\n",
       "             ('layout', 'http://dbpedia.org/ontology/layout'),\n",
       "             ('length', 'http://dbpedia.org/ontology/length'),\n",
       "             ('manufacturer_label',\n",
       "              'http://dbpedia.org/ontology/manufacturer'),\n",
       "             ('manufacturer', 'http://dbpedia.org/ontology/manufacturer'),\n",
       "             ('modelEndYear', 'http://dbpedia.org/ontology/modelEndYear'),\n",
       "             ('modelStartYear', 'http://dbpedia.org/ontology/modelStartYear'),\n",
       "             ('parentCompany_label',\n",
       "              'http://dbpedia.org/ontology/parentCompany'),\n",
       "             ('parentCompany', 'http://dbpedia.org/ontology/parentCompany'),\n",
       "             ('predecessor_label', 'http://dbpedia.org/ontology/predecessor'),\n",
       "             ('predecessor', 'http://dbpedia.org/ontology/predecessor'),\n",
       "             ('productionEndDate',\n",
       "              'http://dbpedia.org/ontology/productionEndDate'),\n",
       "             ('productionEndYear',\n",
       "              'http://dbpedia.org/ontology/productionEndYear'),\n",
       "             ('productionStartDate',\n",
       "              'http://dbpedia.org/ontology/productionStartDate'),\n",
       "             ('productionStartYear',\n",
       "              'http://dbpedia.org/ontology/productionStartYear'),\n",
       "             ('relatedMeanOfTransportation_label',\n",
       "              'http://dbpedia.org/ontology/relatedMeanOfTransportation'),\n",
       "             ('relatedMeanOfTransportation',\n",
       "              'http://dbpedia.org/ontology/relatedMeanOfTransportation'),\n",
       "             ('sales_label', 'http://dbpedia.org/ontology/sales'),\n",
       "             ('sales', 'http://dbpedia.org/ontology/sales'),\n",
       "             ('successor_label', 'http://dbpedia.org/ontology/successor'),\n",
       "             ('successor', 'http://dbpedia.org/ontology/successor'),\n",
       "             ('thumbnail_label', 'http://dbpedia.org/ontology/thumbnail'),\n",
       "             ('thumbnail', 'http://dbpedia.org/ontology/thumbnail'),\n",
       "             ('transmission', 'http://dbpedia.org/ontology/transmission'),\n",
       "             ('variantOf_label', 'http://dbpedia.org/ontology/variantOf'),\n",
       "             ('variantOf', 'http://dbpedia.org/ontology/variantOf'),\n",
       "             ('vehicle_label', 'http://dbpedia.org/ontology/vehicle'),\n",
       "             ('vehicle', 'http://dbpedia.org/ontology/vehicle'),\n",
       "             ('weight', 'http://dbpedia.org/ontology/weight'),\n",
       "             ('wheelbase', 'http://dbpedia.org/ontology/wheelbase'),\n",
       "             ('width', 'http://dbpedia.org/ontology/width'),\n",
       "             ('point', 'http://www.georss.org/georss/point'),\n",
       "             ('22-rdf-syntax-ns#type_label',\n",
       "              'http://www.w3.org/1999/02/22-rdf-syntax-ns#type'),\n",
       "             ('22-rdf-syntax-ns#type',\n",
       "              'http://www.w3.org/1999/02/22-rdf-syntax-ns#type'),\n",
       "             ('wgs84_pos#lat', 'http://www.w3.org/2003/01/geo/wgs84_pos#lat'),\n",
       "             ('wgs84_pos#long',\n",
       "              'http://www.w3.org/2003/01/geo/wgs84_pos#long'),\n",
       "             ('depiction_label', 'http://xmlns.com/foaf/0.1/depiction'),\n",
       "             ('depiction', 'http://xmlns.com/foaf/0.1/depiction'),\n",
       "             ('name', 'http://xmlns.com/foaf/0.1/name')])"
      ]
     },
     "execution_count": 40,
     "metadata": {},
     "output_type": "execute_result"
    }
   ],
   "source": [
    "COL = []\n",
    "with open(INPUT_FILE, 'r') as fin:\n",
    "    reader = csv.DictReader(fin)\n",
    "    header = next(reader)\n",
    "    COL.append(header)\n",
    "COL[0]"
   ]
  },
  {
   "cell_type": "code",
   "execution_count": 48,
   "metadata": {},
   "outputs": [
    {
     "name": "stdout",
     "output_type": "stream",
     "text": [
      "58\n",
      "odict_keys(['URI', 'rdf-schema#label', 'rdf-schema#comment', 'assembly_label', 'assembly', 'automobilePlatform_label', 'automobilePlatform', 'bodyStyle_label', 'bodyStyle', 'class_label', 'class', 'designCompany_label', 'designCompany', 'designer_label', 'designer', 'engine_label', 'engine', 'fuelCapacity', 'height', 'layout_label', 'layout', 'length', 'manufacturer_label', 'manufacturer', 'modelEndYear', 'modelStartYear', 'parentCompany_label', 'parentCompany', 'predecessor_label', 'predecessor', 'productionEndDate', 'productionEndYear', 'productionStartDate', 'productionStartYear', 'relatedMeanOfTransportation_label', 'relatedMeanOfTransportation', 'sales_label', 'sales', 'successor_label', 'successor', 'thumbnail_label', 'thumbnail', 'transmission', 'variantOf_label', 'variantOf', 'vehicle_label', 'vehicle', 'weight', 'wheelbase', 'width', 'point', '22-rdf-syntax-ns#type_label', '22-rdf-syntax-ns#type', 'wgs84_pos#lat', 'wgs84_pos#long', 'depiction_label', 'depiction', 'name'])\n"
     ]
    }
   ],
   "source": [
    "HEADERKEY = []\n",
    "headerkey = COL[0].keys()\n",
    "print(len(headerval))\n",
    "print(headerkey)\n",
    "for item in headerkey:\n",
    "    HEADERKEY.append(item)"
   ]
  },
  {
   "cell_type": "code",
   "execution_count": 49,
   "metadata": {},
   "outputs": [
    {
     "name": "stdout",
     "output_type": "stream",
     "text": [
      "58\n",
      "odict_values(['URI', 'http://www.w3.org/2000/01/rdf-schema#label', 'http://www.w3.org/2000/01/rdf-schema#comment', 'http://dbpedia.org/ontology/assembly', 'http://dbpedia.org/ontology/assembly', 'http://dbpedia.org/ontology/automobilePlatform', 'http://dbpedia.org/ontology/automobilePlatform', 'http://dbpedia.org/ontology/bodyStyle', 'http://dbpedia.org/ontology/bodyStyle', 'http://dbpedia.org/ontology/class', 'http://dbpedia.org/ontology/class', 'http://dbpedia.org/ontology/designCompany', 'http://dbpedia.org/ontology/designCompany', 'http://dbpedia.org/ontology/designer', 'http://dbpedia.org/ontology/designer', 'http://dbpedia.org/ontology/engine', 'http://dbpedia.org/ontology/engine', 'http://dbpedia.org/ontology/fuelCapacity', 'http://dbpedia.org/ontology/height', 'http://dbpedia.org/ontology/layout', 'http://dbpedia.org/ontology/layout', 'http://dbpedia.org/ontology/length', 'http://dbpedia.org/ontology/manufacturer', 'http://dbpedia.org/ontology/manufacturer', 'http://dbpedia.org/ontology/modelEndYear', 'http://dbpedia.org/ontology/modelStartYear', 'http://dbpedia.org/ontology/parentCompany', 'http://dbpedia.org/ontology/parentCompany', 'http://dbpedia.org/ontology/predecessor', 'http://dbpedia.org/ontology/predecessor', 'http://dbpedia.org/ontology/productionEndDate', 'http://dbpedia.org/ontology/productionEndYear', 'http://dbpedia.org/ontology/productionStartDate', 'http://dbpedia.org/ontology/productionStartYear', 'http://dbpedia.org/ontology/relatedMeanOfTransportation', 'http://dbpedia.org/ontology/relatedMeanOfTransportation', 'http://dbpedia.org/ontology/sales', 'http://dbpedia.org/ontology/sales', 'http://dbpedia.org/ontology/successor', 'http://dbpedia.org/ontology/successor', 'http://dbpedia.org/ontology/thumbnail', 'http://dbpedia.org/ontology/thumbnail', 'http://dbpedia.org/ontology/transmission', 'http://dbpedia.org/ontology/variantOf', 'http://dbpedia.org/ontology/variantOf', 'http://dbpedia.org/ontology/vehicle', 'http://dbpedia.org/ontology/vehicle', 'http://dbpedia.org/ontology/weight', 'http://dbpedia.org/ontology/wheelbase', 'http://dbpedia.org/ontology/width', 'http://www.georss.org/georss/point', 'http://www.w3.org/1999/02/22-rdf-syntax-ns#type', 'http://www.w3.org/1999/02/22-rdf-syntax-ns#type', 'http://www.w3.org/2003/01/geo/wgs84_pos#lat', 'http://www.w3.org/2003/01/geo/wgs84_pos#long', 'http://xmlns.com/foaf/0.1/depiction', 'http://xmlns.com/foaf/0.1/depiction', 'http://xmlns.com/foaf/0.1/name'])\n",
      "URI\n",
      "http://www.w3.org/2000/01/rdf-schema#label\n",
      "http://www.w3.org/2000/01/rdf-schema#comment\n",
      "http://dbpedia.org/ontology/assembly\n",
      "http://dbpedia.org/ontology/assembly\n",
      "http://dbpedia.org/ontology/automobilePlatform\n",
      "http://dbpedia.org/ontology/automobilePlatform\n",
      "http://dbpedia.org/ontology/bodyStyle\n",
      "http://dbpedia.org/ontology/bodyStyle\n",
      "http://dbpedia.org/ontology/class\n",
      "http://dbpedia.org/ontology/class\n",
      "http://dbpedia.org/ontology/designCompany\n",
      "http://dbpedia.org/ontology/designCompany\n",
      "http://dbpedia.org/ontology/designer\n",
      "http://dbpedia.org/ontology/designer\n",
      "http://dbpedia.org/ontology/engine\n",
      "http://dbpedia.org/ontology/engine\n",
      "http://dbpedia.org/ontology/fuelCapacity\n",
      "http://dbpedia.org/ontology/height\n",
      "http://dbpedia.org/ontology/layout\n",
      "http://dbpedia.org/ontology/layout\n",
      "http://dbpedia.org/ontology/length\n",
      "http://dbpedia.org/ontology/manufacturer\n",
      "http://dbpedia.org/ontology/manufacturer\n",
      "http://dbpedia.org/ontology/modelEndYear\n",
      "http://dbpedia.org/ontology/modelStartYear\n",
      "http://dbpedia.org/ontology/parentCompany\n",
      "http://dbpedia.org/ontology/parentCompany\n",
      "http://dbpedia.org/ontology/predecessor\n",
      "http://dbpedia.org/ontology/predecessor\n",
      "http://dbpedia.org/ontology/productionEndDate\n",
      "http://dbpedia.org/ontology/productionEndYear\n",
      "http://dbpedia.org/ontology/productionStartDate\n",
      "http://dbpedia.org/ontology/productionStartYear\n",
      "http://dbpedia.org/ontology/relatedMeanOfTransportation\n",
      "http://dbpedia.org/ontology/relatedMeanOfTransportation\n",
      "http://dbpedia.org/ontology/sales\n",
      "http://dbpedia.org/ontology/sales\n",
      "http://dbpedia.org/ontology/successor\n",
      "http://dbpedia.org/ontology/successor\n",
      "http://dbpedia.org/ontology/thumbnail\n",
      "http://dbpedia.org/ontology/thumbnail\n",
      "http://dbpedia.org/ontology/transmission\n",
      "http://dbpedia.org/ontology/variantOf\n",
      "http://dbpedia.org/ontology/variantOf\n",
      "http://dbpedia.org/ontology/vehicle\n",
      "http://dbpedia.org/ontology/vehicle\n",
      "http://dbpedia.org/ontology/weight\n",
      "http://dbpedia.org/ontology/wheelbase\n",
      "http://dbpedia.org/ontology/width\n",
      "http://www.georss.org/georss/point\n",
      "http://www.w3.org/1999/02/22-rdf-syntax-ns#type\n",
      "http://www.w3.org/1999/02/22-rdf-syntax-ns#type\n",
      "http://www.w3.org/2003/01/geo/wgs84_pos#lat\n",
      "http://www.w3.org/2003/01/geo/wgs84_pos#long\n",
      "http://xmlns.com/foaf/0.1/depiction\n",
      "http://xmlns.com/foaf/0.1/depiction\n",
      "http://xmlns.com/foaf/0.1/name\n"
     ]
    }
   ],
   "source": [
    "HEADERVALS = []\n",
    "keyval = COL[0].values()\n",
    "print(len(headerval))\n",
    "print(keyval)\n",
    "for item in keyval:\n",
    "    print(item)\n",
    "    HEADERVALS.append(item)"
   ]
  },
  {
   "cell_type": "code",
   "execution_count": 51,
   "metadata": {},
   "outputs": [
    {
     "name": "stdout",
     "output_type": "stream",
     "text": [
      "['URI', 'rdf-schema#label', 'rdf-schema#comment', 'assembly_label', 'assembly', 'automobilePlatform_label', 'automobilePlatform', 'bodyStyle_label', 'bodyStyle', 'class_label', 'class', 'designCompany_label', 'designCompany', 'designer_label', 'designer', 'engine_label', 'engine', 'fuelCapacity', 'height', 'layout_label', 'layout', 'length', 'manufacturer_label', 'manufacturer', 'modelEndYear', 'modelStartYear', 'parentCompany_label', 'parentCompany', 'predecessor_label', 'predecessor', 'productionEndDate', 'productionEndYear', 'productionStartDate', 'productionStartYear', 'relatedMeanOfTransportation_label', 'relatedMeanOfTransportation', 'sales_label', 'sales', 'successor_label', 'successor', 'thumbnail_label', 'thumbnail', 'transmission', 'variantOf_label', 'variantOf', 'vehicle_label', 'vehicle', 'weight', 'wheelbase', 'width', 'point', '22-rdf-syntax-ns#type_label', '22-rdf-syntax-ns#type', 'wgs84_pos#lat', 'wgs84_pos#long', 'depiction_label', 'depiction', 'name']\n",
      "---------------\n",
      "['URI', 'http://www.w3.org/2000/01/rdf-schema#label', 'http://www.w3.org/2000/01/rdf-schema#comment', 'http://dbpedia.org/ontology/assembly', 'http://dbpedia.org/ontology/assembly', 'http://dbpedia.org/ontology/automobilePlatform', 'http://dbpedia.org/ontology/automobilePlatform', 'http://dbpedia.org/ontology/bodyStyle', 'http://dbpedia.org/ontology/bodyStyle', 'http://dbpedia.org/ontology/class', 'http://dbpedia.org/ontology/class', 'http://dbpedia.org/ontology/designCompany', 'http://dbpedia.org/ontology/designCompany', 'http://dbpedia.org/ontology/designer', 'http://dbpedia.org/ontology/designer', 'http://dbpedia.org/ontology/engine', 'http://dbpedia.org/ontology/engine', 'http://dbpedia.org/ontology/fuelCapacity', 'http://dbpedia.org/ontology/height', 'http://dbpedia.org/ontology/layout', 'http://dbpedia.org/ontology/layout', 'http://dbpedia.org/ontology/length', 'http://dbpedia.org/ontology/manufacturer', 'http://dbpedia.org/ontology/manufacturer', 'http://dbpedia.org/ontology/modelEndYear', 'http://dbpedia.org/ontology/modelStartYear', 'http://dbpedia.org/ontology/parentCompany', 'http://dbpedia.org/ontology/parentCompany', 'http://dbpedia.org/ontology/predecessor', 'http://dbpedia.org/ontology/predecessor', 'http://dbpedia.org/ontology/productionEndDate', 'http://dbpedia.org/ontology/productionEndYear', 'http://dbpedia.org/ontology/productionStartDate', 'http://dbpedia.org/ontology/productionStartYear', 'http://dbpedia.org/ontology/relatedMeanOfTransportation', 'http://dbpedia.org/ontology/relatedMeanOfTransportation', 'http://dbpedia.org/ontology/sales', 'http://dbpedia.org/ontology/sales', 'http://dbpedia.org/ontology/successor', 'http://dbpedia.org/ontology/successor', 'http://dbpedia.org/ontology/thumbnail', 'http://dbpedia.org/ontology/thumbnail', 'http://dbpedia.org/ontology/transmission', 'http://dbpedia.org/ontology/variantOf', 'http://dbpedia.org/ontology/variantOf', 'http://dbpedia.org/ontology/vehicle', 'http://dbpedia.org/ontology/vehicle', 'http://dbpedia.org/ontology/weight', 'http://dbpedia.org/ontology/wheelbase', 'http://dbpedia.org/ontology/width', 'http://www.georss.org/georss/point', 'http://www.w3.org/1999/02/22-rdf-syntax-ns#type', 'http://www.w3.org/1999/02/22-rdf-syntax-ns#type', 'http://www.w3.org/2003/01/geo/wgs84_pos#lat', 'http://www.w3.org/2003/01/geo/wgs84_pos#long', 'http://xmlns.com/foaf/0.1/depiction', 'http://xmlns.com/foaf/0.1/depiction', 'http://xmlns.com/foaf/0.1/name']\n"
     ]
    }
   ],
   "source": [
    "print(HEADERKEY)\n",
    "print('-'*15)\n",
    "print(HEADERVALS)"
   ]
  },
  {
   "cell_type": "code",
   "execution_count": 62,
   "metadata": {},
   "outputs": [],
   "source": [
    "YEARS = []\n",
    "with open(INPUT_FILE, 'r') as fin:\n",
    "    reader = csv.DictReader(fin)\n",
    "    header = next(reader)\n",
    "    for row in reader:\n",
    "        if not \"dbpedia.org\" in row['URI']:\n",
    "            continue\n",
    "        year = row['productionStartYear']\n",
    "        YEARS.append(int(year[:4]))\n",
    "good_val = []\n",
    "bad_val = []\n",
    "for year in YEARS:\n",
    "    if 1886 < year < 2014:\n",
    "        good_val.append(year)\n",
    "    else:\n",
    "        bad_val.append(year)\n",
    "        "
   ]
  },
  {
   "cell_type": "code",
   "execution_count": 63,
   "metadata": {},
   "outputs": [
    {
     "name": "stdout",
     "output_type": "stream",
     "text": [
      "44\n",
      "[1989, 1969, 1957, 1959, 2108, 1936, 1953, 2002, 2002, 1985, 1939, 1970, 1957, 1958, 1983, 1962, 1964, 1, 1964, 1979, 1961, 1975, 1953, 1978, 1908, 1994, 1955, 1927, 1951, 1979, 1955, 2002, 1985, 1968, 1979, 1975, 1994, 1956, 1968, 1977, 1983, 2001, 1959, 1956]\n"
     ]
    }
   ],
   "source": [
    "print(len(YEARS))\n",
    "print(YEARS)"
   ]
  },
  {
   "cell_type": "code",
   "execution_count": 65,
   "metadata": {},
   "outputs": [
    {
     "name": "stdout",
     "output_type": "stream",
     "text": [
      "42\n",
      "[1989, 1969, 1957, 1959, 1936, 1953, 2002, 2002, 1985, 1939, 1970, 1957, 1958, 1983, 1962, 1964, 1964, 1979, 1961, 1975, 1953, 1978, 1908, 1994, 1955, 1927, 1951, 1979, 1955, 2002, 1985, 1968, 1979, 1975, 1994, 1956, 1968, 1977, 1983, 2001, 1959, 1956]\n"
     ]
    }
   ],
   "source": [
    "print(len(good_val))\n",
    "print(good_val)"
   ]
  },
  {
   "cell_type": "code",
   "execution_count": 66,
   "metadata": {},
   "outputs": [
    {
     "name": "stdout",
     "output_type": "stream",
     "text": [
      "2\n",
      "[2108, 1]\n"
     ]
    }
   ],
   "source": [
    "print(len(bad_val))\n",
    "print(bad_val)"
   ]
  },
  {
   "cell_type": "code",
   "execution_count": 16,
   "metadata": {},
   "outputs": [
    {
     "data": {
      "text/plain": [
       "58"
      ]
     },
     "execution_count": 16,
     "metadata": {},
     "output_type": "execute_result"
    }
   ],
   "source": [
    "len(data1[0])"
   ]
  },
  {
   "cell_type": "code",
   "execution_count": 29,
   "metadata": {},
   "outputs": [
    {
     "name": "stdout",
     "output_type": "stream",
     "text": [
      "URI\n",
      "http://www.w3.org/2000/01/rdf-schema#label\n",
      "http://www.w3.org/2000/01/rdf-schema#comment\n",
      "http://dbpedia.org/ontology/assembly\n",
      "http://dbpedia.org/ontology/assembly\n",
      "http://dbpedia.org/ontology/automobilePlatform\n",
      "http://dbpedia.org/ontology/automobilePlatform\n",
      "http://dbpedia.org/ontology/bodyStyle\n",
      "http://dbpedia.org/ontology/bodyStyle\n",
      "http://dbpedia.org/ontology/class\n",
      "http://dbpedia.org/ontology/class\n",
      "http://dbpedia.org/ontology/designCompany\n",
      "http://dbpedia.org/ontology/designCompany\n",
      "http://dbpedia.org/ontology/designer\n",
      "http://dbpedia.org/ontology/designer\n",
      "http://dbpedia.org/ontology/engine\n",
      "http://dbpedia.org/ontology/engine\n",
      "http://dbpedia.org/ontology/fuelCapacity\n",
      "http://dbpedia.org/ontology/height\n",
      "http://dbpedia.org/ontology/layout\n",
      "http://dbpedia.org/ontology/layout\n",
      "http://dbpedia.org/ontology/length\n",
      "http://dbpedia.org/ontology/manufacturer\n",
      "http://dbpedia.org/ontology/manufacturer\n",
      "http://dbpedia.org/ontology/modelEndYear\n",
      "http://dbpedia.org/ontology/modelStartYear\n",
      "http://dbpedia.org/ontology/parentCompany\n",
      "http://dbpedia.org/ontology/parentCompany\n",
      "http://dbpedia.org/ontology/predecessor\n",
      "http://dbpedia.org/ontology/predecessor\n",
      "http://dbpedia.org/ontology/productionEndDate\n",
      "http://dbpedia.org/ontology/productionEndYear\n",
      "http://dbpedia.org/ontology/productionStartDate\n",
      "http://dbpedia.org/ontology/productionStartYear\n",
      "http://dbpedia.org/ontology/relatedMeanOfTransportation\n",
      "http://dbpedia.org/ontology/relatedMeanOfTransportation\n",
      "http://dbpedia.org/ontology/sales\n",
      "http://dbpedia.org/ontology/sales\n",
      "http://dbpedia.org/ontology/successor\n",
      "http://dbpedia.org/ontology/successor\n",
      "http://dbpedia.org/ontology/thumbnail\n",
      "http://dbpedia.org/ontology/thumbnail\n",
      "http://dbpedia.org/ontology/transmission\n",
      "http://dbpedia.org/ontology/variantOf\n",
      "http://dbpedia.org/ontology/variantOf\n",
      "http://dbpedia.org/ontology/vehicle\n",
      "http://dbpedia.org/ontology/vehicle\n",
      "http://dbpedia.org/ontology/weight\n",
      "http://dbpedia.org/ontology/wheelbase\n",
      "http://dbpedia.org/ontology/width\n",
      "http://www.georss.org/georss/point\n",
      "http://www.w3.org/1999/02/22-rdf-syntax-ns#type\n",
      "http://www.w3.org/1999/02/22-rdf-syntax-ns#type\n",
      "http://www.w3.org/2003/01/geo/wgs84_pos#lat\n",
      "http://www.w3.org/2003/01/geo/wgs84_pos#long\n",
      "http://xmlns.com/foaf/0.1/depiction\n",
      "http://xmlns.com/foaf/0.1/depiction\n",
      "http://xmlns.com/foaf/0.1/name\n"
     ]
    }
   ],
   "source": [
    "dataheaders = []\n",
    "with open(INPUT_FILE, 'r') as fin:\n",
    "    reader = csv.DictReader(fin)\n",
    "    header = next(reader)\n",
    "    #alternatively: \n",
    "    #header = reader.fieldnames\n",
    "    dataheaders.append(header)\n",
    "for key, value in dataheaders[0].items():\n",
    "    print(value)"
   ]
  },
  {
   "cell_type": "code",
   "execution_count": 18,
   "metadata": {},
   "outputs": [
    {
     "data": {
      "text/plain": [
       "odict_keys(['URI', 'rdf-schema#label', 'rdf-schema#comment', 'assembly_label', 'assembly', 'automobilePlatform_label', 'automobilePlatform', 'bodyStyle_label', 'bodyStyle', 'class_label', 'class', 'designCompany_label', 'designCompany', 'designer_label', 'designer', 'engine_label', 'engine', 'fuelCapacity', 'height', 'layout_label', 'layout', 'length', 'manufacturer_label', 'manufacturer', 'modelEndYear', 'modelStartYear', 'parentCompany_label', 'parentCompany', 'predecessor_label', 'predecessor', 'productionEndDate', 'productionEndYear', 'productionStartDate', 'productionStartYear', 'relatedMeanOfTransportation_label', 'relatedMeanOfTransportation', 'sales_label', 'sales', 'successor_label', 'successor', 'thumbnail_label', 'thumbnail', 'transmission', 'variantOf_label', 'variantOf', 'vehicle_label', 'vehicle', 'weight', 'wheelbase', 'width', 'point', '22-rdf-syntax-ns#type_label', '22-rdf-syntax-ns#type', 'wgs84_pos#lat', 'wgs84_pos#long', 'depiction_label', 'depiction', 'name'])"
      ]
     },
     "execution_count": 18,
     "metadata": {},
     "output_type": "execute_result"
    }
   ],
   "source": [
    "data1[0].keys()"
   ]
  },
  {
   "cell_type": "code",
   "execution_count": 70,
   "metadata": {},
   "outputs": [],
   "source": [
    "good_output = []\n",
    "bad_output = []\n",
    "    \n",
    "with open(INPUT_FILE, \"r\") as f:\n",
    "    reader = csv.DictReader(f)\n",
    "    header = reader.fieldnames\n",
    "\n",
    "    for row in reader:\n",
    "        if 'dbpedia.org' in row['URI']:\n",
    "            year = row['productionStartYear'][:4]\n",
    "            try:\n",
    "                psYear = int(year[:4])\n",
    "                if 1886 < psYear < 2014:\n",
    "                    good_output.append(row)\n",
    "                else:\n",
    "                    bad_output.append(row)\n",
    "            except ValueError:\n",
    "                if year == 'NULL':\n",
    "                    bad_output.append(row)\n",
    "\n",
    "\n",
    "\n",
    "\n",
    "# This is just an example on how you can use csv.DictWriter\n",
    "# Remember that you have to output 2 files\n",
    "with open(OUTPUT_GOOD, \"w\") as g:\n",
    "    writer = csv.DictWriter(g, delimiter=\",\", fieldnames= header)\n",
    "    writer.writeheader()\n",
    "    for row in good_output:\n",
    "        writer.writerow(row)\n",
    "\n",
    "with open(OUTPUT_BAD, 'w') as f:\n",
    "    writer = csv.DictWriter(f, delimiter=',', fieldnames=header)\n",
    "    writer.writeheader()\n",
    "    for row in bad_output:\n",
    "        writer.writerow(row)\n"
   ]
  },
  {
   "cell_type": "markdown",
   "metadata": {},
   "source": [
    "import csv\n",
    "import pprint\n",
    "\n",
    "INPUT_FILE = 'autos.csv'\n",
    "OUTPUT_GOOD = 'autos-valid.csv'\n",
    "OUTPUT_BAD = 'FIXME-autos.csv'\n",
    "\n",
    "good_data = []#empty dictionary of good data values\n",
    "bad_data = []#empty dictionary of bad data values\n",
    "with open(INPUT_FILE,'r') as f:\n",
    "    reader = csv.DictReader(f)\n",
    "    header = reader.fieldnames\n",
    "    print(header)\n",
    " "
   ]
  },
  {
   "cell_type": "code",
   "execution_count": 18,
   "metadata": {},
   "outputs": [
    {
     "name": "stdout",
     "output_type": "stream",
     "text": [
      "http://dbpedia.org/resource/Mazda_MX-5\n",
      "http://dbpedia.org/resource/Nissan_Z-car\n",
      "http://dbpedia.org/resource/Lotus_Seven\n",
      "http://dbpedia.org/resource/Chaika_(car)\n",
      "http://dbpedia.org/resource/Lada_Samara\n",
      "http://dbpedia.org/resource/BMW_328\n",
      "http://dbpedia.org/resource/Green_Goddess\n",
      "http://dbpedia.org/resource/Porsche_Cayenne\n",
      "http://dbpedia.org/resource/Pontiac_Vibe\n",
      "http://dbpedia.org/resource/Ford_Taurus\n",
      "http://dbpedia.org/resource/Ford_Anglia\n",
      "http://dbpedia.org/resource/Toyota_Celica\n",
      "http://dbpedia.org/resource/Vespa_400\n",
      "http://dbpedia.org/resource/Edsel\n",
      "http://dbpedia.org/resource/Reliant_Fox\n",
      "http://dbpedia.org/resource/Ford_Cortina\n",
      "http://dbpedia.org/resource/Pontiac_GTO\n",
      "http://dbpedia.org/resource/Vauxhall_Viva\n",
      "http://dbpedia.org/resource/Reliant_Scimitar\n",
      "http://dbpedia.org/resource/Vauxhall_Astra\n",
      "http://dbpedia.org/resource/AC_Cobra\n",
      "http://dbpedia.org/resource/Volvo_66\n",
      "http://dbpedia.org/resource/Volvo_Duett\n",
      "http://dbpedia.org/resource/Saab_9-2\n",
      "http://dbpedia.org/resource/Saab_900\n",
      "http://dbpedia.org/resource/Chalmers_Automobile\n",
      "http://dbpedia.org/resource/Chevrolet_Impala\n",
      "http://dbpedia.org/resource/Ford_Crown_Victoria\n",
      "http://dbpedia.org/resource/BMW_Dixi\n",
      "http://dbpedia.org/resource/Toyota_Land_Cruiser\n",
      "http://dbpedia.org/resource/Volkswagen_Jetta\n",
      "http://dbpedia.org/resource/E-M-F_Company\n",
      "http://dbpedia.org/resource/Ford_Thunderbird\n",
      "http://dbpedia.org/resource/Toyota_Matrix\n",
      "http://dbpedia.org/resource/Honda_Integra\n",
      "http://dbpedia.org/resource/Plymouth_Road_Runner\n",
      "http://dbpedia.org/resource/Lancia_Delta\n",
      "http://dbpedia.org/resource/AMC_Pacer\n",
      "http://dbpedia.org/resource/Ford_Windstar\n",
      "http://dbpedia.org/resource/Ford_Parklane\n",
      "http://dbpedia.org/resource/Ford_Torino\n",
      "http://dbpedia.org/resource/Nissan_Maxima\n",
      "http://dbpedia.org/resource/Dodge_Caravan\n",
      "http://dbpedia.org/resource/Chevrolet_Avalanche\n",
      "http://dbpedia.org/resource/Saab_95\n",
      "http://dbpedia.org/resource/Volvo_P1900\n"
     ]
    }
   ],
   "source": [
    "with open(INPUT_FILE,'r') as f:\n",
    "    reader = csv.DictReader(f)\n",
    "    header = reader.fieldnames\n",
    "    for row in reader:\n",
    "        if \"dbpedia.org\" in row[\"URI\"]:\n",
    "            print(row[\"URI\"])"
   ]
  },
  {
   "cell_type": "code",
   "execution_count": 23,
   "metadata": {},
   "outputs": [
    {
     "name": "stdout",
     "output_type": "stream",
     "text": [
      "http://dbpedia.org/ontology/productionStartYear\n",
      "XMLSchema#gYear\n",
      "http://www.w3.org/2001/XMLSchema#gYear\n",
      "1989-01-01T00:00:00+02:00\n",
      "1969-01-01T00:00:00+02:00\n",
      "1957-01-01T00:00:00+02:00\n",
      "1959-01-01T00:00:00+02:00\n",
      "2108-01-01T00:00:00+02:00\n",
      "1936-01-01T00:00:00+02:00\n",
      "1953-01-01T00:00:00+02:00\n",
      "2002-01-01T00:00:00+02:00\n",
      "2002-01-01T00:00:00+02:00\n",
      "1985-01-01T00:00:00+02:00\n",
      "1939-01-01T00:00:00+02:00\n",
      "1970-01-01T00:00:00+02:00\n",
      "1957-01-01T00:00:00+02:00\n",
      "1958-01-01T00:00:00+02:00\n",
      "1983-01-01T00:00:00+02:00\n",
      "1962-01-01T00:00:00+02:00\n",
      "1964-01-01T00:00:00+02:00\n",
      "0001-01-01T00:00:00+02:00\n",
      "1964-01-01T00:00:00+02:00\n",
      "1979-01-01T00:00:00+02:00\n",
      "1961-01-01T00:00:00+02:00\n",
      "1975-01-01T00:00:00+02:00\n",
      "1953-01-01T00:00:00+02:00\n",
      "NULL\n",
      "1978-01-01T00:00:00+02:00\n",
      "1908-01-01T00:00:00+02:00\n",
      "1994-01-01T00:00:00+02:00\n",
      "1955-01-01T00:00:00+02:00\n",
      "1927-01-01T00:00:00+02:00\n",
      "1951-01-01T00:00:00+02:00\n",
      "1979-01-01T00:00:00+02:00\n",
      "NULL\n",
      "1955-01-01T00:00:00+02:00\n",
      "2002-01-01T00:00:00+02:00\n",
      "1985-01-01T00:00:00+02:00\n",
      "1968-01-01T00:00:00+02:00\n",
      "1979-01-01T00:00:00+02:00\n",
      "1975-01-01T00:00:00+02:00\n",
      "1994-01-01T00:00:00+02:00\n",
      "1956-01-01T00:00:00+02:00\n",
      "1968-01-01T00:00:00+02:00\n",
      "1977-01-01T00:00:00+02:00\n",
      "1983-01-01T00:00:00+02:00\n",
      "2001-01-01T00:00:00+02:00\n",
      "1959-01-01T00:00:00+02:00\n",
      "1956-01-01T00:00:00+02:00\n"
     ]
    }
   ],
   "source": [
    "with open(INPUT_FILE,'r') as f:\n",
    "    reader = csv.DictReader(f)\n",
    "    header = reader.fieldnames\n",
    "    for row in reader:\n",
    "        print(row[\"productionStartYear\"])"
   ]
  },
  {
   "cell_type": "code",
   "execution_count": 26,
   "metadata": {},
   "outputs": [
    {
     "name": "stdout",
     "output_type": "stream",
     "text": [
      "True\n",
      "True\n",
      "True\n",
      "True\n",
      "False\n",
      "True\n",
      "True\n",
      "True\n",
      "True\n",
      "True\n",
      "True\n",
      "True\n",
      "True\n",
      "True\n",
      "True\n",
      "True\n",
      "True\n",
      "False\n",
      "True\n",
      "True\n",
      "True\n",
      "True\n",
      "True\n"
     ]
    },
    {
     "ename": "ValueError",
     "evalue": "invalid literal for int() with base 10: 'NULL'",
     "output_type": "error",
     "traceback": [
      "\u001b[0;31m---------------------------------------------------------------------------\u001b[0m",
      "\u001b[0;31mValueError\u001b[0m                                Traceback (most recent call last)",
      "\u001b[0;32m<ipython-input-26-b5a3153818a6>\u001b[0m in \u001b[0;36m<module>\u001b[0;34m()\u001b[0m\n\u001b[1;32m      7\u001b[0m             \u001b[0;32mcontinue\u001b[0m\u001b[0;34m\u001b[0m\u001b[0m\n\u001b[1;32m      8\u001b[0m         \u001b[0mps_year\u001b[0m \u001b[0;34m=\u001b[0m \u001b[0mrow\u001b[0m\u001b[0;34m[\u001b[0m\u001b[0;34m'productionStartYear'\u001b[0m\u001b[0;34m]\u001b[0m\u001b[0;34m[\u001b[0m\u001b[0;34m:\u001b[0m\u001b[0;36m4\u001b[0m\u001b[0;34m]\u001b[0m\u001b[0;34m\u001b[0m\u001b[0m\n\u001b[0;32m----> 9\u001b[0;31m         \u001b[0mps_year\u001b[0m \u001b[0;34m=\u001b[0m \u001b[0mint\u001b[0m\u001b[0;34m(\u001b[0m\u001b[0mps_year\u001b[0m\u001b[0;34m)\u001b[0m\u001b[0;34m\u001b[0m\u001b[0m\n\u001b[0m\u001b[1;32m     10\u001b[0m         \u001b[0mprint\u001b[0m\u001b[0;34m(\u001b[0m\u001b[0;36m1886\u001b[0m \u001b[0;34m<=\u001b[0m \u001b[0mps_year\u001b[0m \u001b[0;34m<=\u001b[0m \u001b[0;36m2014\u001b[0m\u001b[0;34m)\u001b[0m\u001b[0;34m\u001b[0m\u001b[0m\n",
      "\u001b[0;31mValueError\u001b[0m: invalid literal for int() with base 10: 'NULL'"
     ]
    }
   ],
   "source": [
    "with open(INPUT_FILE,'r') as f:\n",
    "    reader = csv.DictReader(f)\n",
    "    header = reader.fieldnames\n",
    "    for row in reader:\n",
    "        if row['URI'].find(\"dbpedia.org\") < 0:\n",
    "                #if \"dbpedia.org\" in row[\"URI\"] also works\n",
    "            continue\n",
    "        ps_year = row['productionStartYear'][:4]\n",
    "        ps_year = int(ps_year)\n",
    "        print(1886 <= ps_year <= 2014)"
   ]
  }
 ],
 "metadata": {
  "kernelspec": {
   "display_name": "Python 3",
   "language": "python",
   "name": "python3"
  },
  "language_info": {
   "codemirror_mode": {
    "name": "ipython",
    "version": 3
   },
   "file_extension": ".py",
   "mimetype": "text/x-python",
   "name": "python",
   "nbconvert_exporter": "python",
   "pygments_lexer": "ipython3",
   "version": "3.6.5"
  }
 },
 "nbformat": 4,
 "nbformat_minor": 2
}
