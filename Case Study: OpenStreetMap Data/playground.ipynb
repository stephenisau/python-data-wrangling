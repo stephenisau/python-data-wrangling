{
 "cells": [
  {
   "cell_type": "code",
   "execution_count": 6,
   "metadata": {},
   "outputs": [
    {
     "name": "stdout",
     "output_type": "stream",
     "text": [
      "{'bounds': 1, 'node': 23, 'tag': 42, 'nd': 11, 'way': 2, 'member': 3, 'relation': 1, 'osm': 1}\n"
     ]
    }
   ],
   "source": [
    "import xml.etree.cElementTree as ET\n",
    "import pprint\n",
    "\n",
    "FILE = 'example.osm'\n",
    "\n",
    "\"\"\"\n",
    "Your task is to use the iterative parsing to process the map file and\n",
    "find out not only what tags are there, but also how many, to get the\n",
    "feeling on how much of which data you can expect to have in the map.\n",
    "Fill out the count_tags function. It should return a dictionary with the \n",
    "tag name as the key and number of times this tag can be encountered in \n",
    "the map as value.\n",
    "\n",
    "Note that your code will be tested with a different data file than the 'example.osm'\n",
    "\"\"\"\n",
    "tagDict = {}\n",
    "\n",
    "for i, element in ET.iterparse(FILE):\n",
    "    if element.tag not in tagDict:\n",
    "        tagDict[element.tag] = 1\n",
    "    else:\n",
    "        tagDict[element.tag] += 1\n",
    "print(tagDict)"
   ]
  },
  {
   "cell_type": "code",
   "execution_count": 2,
   "metadata": {},
   "outputs": [
    {
     "name": "stdout",
     "output_type": "stream",
     "text": [
      "end\n",
      "end\n",
      "end\n",
      "end\n",
      "end\n",
      "end\n",
      "end\n",
      "end\n",
      "end\n",
      "end\n",
      "end\n",
      "end\n",
      "end\n",
      "end\n",
      "end\n",
      "end\n",
      "end\n",
      "end\n",
      "end\n",
      "end\n",
      "end\n",
      "end\n",
      "end\n",
      "end\n",
      "end\n",
      "end\n",
      "end\n",
      "end\n",
      "end\n",
      "end\n",
      "end\n",
      "end\n",
      "end\n",
      "end\n",
      "end\n",
      "end\n",
      "end\n",
      "end\n",
      "end\n",
      "end\n",
      "end\n",
      "end\n",
      "end\n",
      "end\n",
      "end\n",
      "end\n",
      "end\n",
      "end\n",
      "end\n",
      "end\n",
      "end\n",
      "end\n",
      "end\n",
      "end\n",
      "end\n",
      "end\n",
      "end\n",
      "end\n",
      "end\n",
      "end\n",
      "end\n",
      "end\n",
      "end\n",
      "end\n",
      "end\n",
      "end\n",
      "end\n",
      "end\n",
      "end\n",
      "end\n",
      "end\n",
      "end\n",
      "end\n",
      "end\n",
      "end\n",
      "end\n",
      "end\n",
      "end\n",
      "end\n",
      "end\n",
      "end\n",
      "end\n",
      "end\n",
      "end\n"
     ]
    }
   ],
   "source": [
    "\n",
    "for i, element in ET.iterparse(FILE):\n",
    "    print(i)"
   ]
  },
  {
   "cell_type": "code",
   "execution_count": 4,
   "metadata": {},
   "outputs": [
    {
     "name": "stdout",
     "output_type": "stream",
     "text": [
      "bounds\n",
      "node\n",
      "node\n",
      "node\n",
      "node\n",
      "node\n",
      "node\n",
      "node\n",
      "node\n",
      "node\n",
      "node\n",
      "node\n",
      "node\n",
      "node\n",
      "node\n",
      "node\n",
      "node\n",
      "node\n",
      "tag\n",
      "node\n",
      "tag\n",
      "tag\n",
      "tag\n",
      "tag\n",
      "tag\n",
      "tag\n",
      "tag\n",
      "tag\n",
      "tag\n",
      "tag\n",
      "tag\n",
      "node\n",
      "tag\n",
      "tag\n",
      "tag\n",
      "tag\n",
      "tag\n",
      "tag\n",
      "tag\n",
      "tag\n",
      "tag\n",
      "tag\n",
      "node\n",
      "node\n",
      "tag\n",
      "tag\n",
      "tag\n",
      "node\n",
      "nd\n",
      "nd\n",
      "nd\n",
      "nd\n",
      "tag\n",
      "way\n",
      "tag\n",
      "tag\n",
      "tag\n",
      "tag\n",
      "tag\n",
      "tag\n",
      "node\n",
      "nd\n",
      "nd\n",
      "nd\n",
      "nd\n",
      "nd\n",
      "nd\n",
      "nd\n",
      "tag\n",
      "tag\n",
      "tag\n",
      "tag\n",
      "tag\n",
      "tag\n",
      "tag\n",
      "tag\n",
      "way\n",
      "member\n",
      "member\n",
      "member\n",
      "tag\n",
      "tag\n",
      "relation\n",
      "osm\n"
     ]
    }
   ],
   "source": [
    "for i, element in ET.iterparse(FILE):\n",
    "    print(element.tag)"
   ]
  },
  {
   "cell_type": "code",
   "execution_count": 13,
   "metadata": {},
   "outputs": [
    {
     "name": "stdout",
     "output_type": "stream",
     "text": [
      "defaultdict(<class 'set'>, {})\n",
      "<_io.TextIOWrapper name='example.osm' mode='r' encoding='UTF-8'>\n"
     ]
    }
   ],
   "source": [
    "import xml.etree.cElementTree as ET\n",
    "from collections import defaultdict\n",
    "import re\n",
    "import pprint\n",
    "\n",
    "OSMFILE = \"example.osm\"\n",
    "street_type_re = re.compile(r'\\b\\S+\\.?$', re.IGNORECASE)\n",
    "\n",
    "\n",
    "expected = [\"Street\", \"Avenue\", \"Boulevard\", \"Drive\", \"Court\", \"Place\", \"Square\", \"Lane\", \"Road\", \n",
    "            \"Trail\", \"Parkway\", \"Commons\"]\n",
    "\n",
    "# UPDATE THIS VARIABLE\n",
    "mapping = { \"St\": \"Street\",\n",
    "            \"St.\": \"Street\"\n",
    "            }\n",
    "\n",
    "osmfile = open(OSMFILE, 'r')\n",
    "street_types = defaultdict(set)\n",
    "print(street_types)\n",
    "print(osmfile)"
   ]
  },
  {
   "cell_type": "code",
   "execution_count": 22,
   "metadata": {},
   "outputs": [
    {
     "ename": "ParseError",
     "evalue": "no element found: line 1, column 0 (<string>)",
     "output_type": "error",
     "traceback": [
      "Traceback \u001b[0;36m(most recent call last)\u001b[0m:\n",
      "  File \u001b[1;32m\"/Library/Frameworks/Python.framework/Versions/3.6/lib/python3.6/site-packages/IPython/core/interactiveshell.py\"\u001b[0m, line \u001b[1;32m2963\u001b[0m, in \u001b[1;35mrun_code\u001b[0m\n    exec(code_obj, self.user_global_ns, self.user_ns)\n",
      "  File \u001b[1;32m\"<ipython-input-22-4c7e69425165>\"\u001b[0m, line \u001b[1;32m1\u001b[0m, in \u001b[1;35m<module>\u001b[0m\n    for event, elem, in ET.iterparse(osmfile, events=('start',)):\n",
      "  File \u001b[1;32m\"/Library/Frameworks/Python.framework/Versions/3.6/lib/python3.6/xml/etree/ElementTree.py\"\u001b[0m, line \u001b[1;32m1227\u001b[0m, in \u001b[1;35miterator\u001b[0m\n    root = pullparser._close_and_return_root()\n",
      "\u001b[0;36m  File \u001b[0;32m\"/Library/Frameworks/Python.framework/Versions/3.6/lib/python3.6/xml/etree/ElementTree.py\"\u001b[0;36m, line \u001b[0;32m1274\u001b[0;36m, in \u001b[0;35m_close_and_return_root\u001b[0;36m\u001b[0m\n\u001b[0;31m    root = self._parser.close()\u001b[0m\n",
      "\u001b[0;36m  File \u001b[0;32m\"<string>\"\u001b[0;36m, line \u001b[0;32munknown\u001b[0m\n\u001b[0;31mParseError\u001b[0m\u001b[0;31m:\u001b[0m no element found: line 1, column 0\n"
     ]
    }
   ],
   "source": [
    "for event, elem, in ET.iterparse(osmfile, events=('start',)):\n",
    "    if elem.tag == 'node' or elem.tag == 'way':\n",
    "        for tag in elem.iter('tag'):\n",
    "            print(tag)"
   ]
  },
  {
   "cell_type": "code",
   "execution_count": 26,
   "metadata": {},
   "outputs": [
    {
     "name": "stdout",
     "output_type": "stream",
     "text": [
      "N. Lincoln Ave\n"
     ]
    },
    {
     "data": {
      "text/plain": [
       "()"
      ]
     },
     "execution_count": 26,
     "metadata": {},
     "output_type": "execute_result"
    }
   ],
   "source": [
    "#s = '<tag k=\"addr:street\" v=\"N. Lincoln Ave\"/>'\n",
    "street_type_re = re.compile(r'\\b\\S+\\.?$', re.IGNORECASE)\n",
    "s = 'N. Lincoln Ave'\n",
    "m = street_type_re.search(s)\n",
    "print(s)\n",
    "m.groups()"
   ]
  },
  {
   "cell_type": "code",
   "execution_count": 17,
   "metadata": {},
   "outputs": [
    {
     "name": "stdout",
     "output_type": "stream",
     "text": [
      "<_elementtree._element_iterator object at 0x108d65258>\n",
      "<_elementtree._element_iterator object at 0x108d65258>\n",
      "<_elementtree._element_iterator object at 0x108d65258>\n",
      "<_elementtree._element_iterator object at 0x108d65258>\n",
      "<_elementtree._element_iterator object at 0x108d65258>\n",
      "<_elementtree._element_iterator object at 0x108d65258>\n",
      "<_elementtree._element_iterator object at 0x108d65258>\n",
      "<_elementtree._element_iterator object at 0x108d65258>\n",
      "<_elementtree._element_iterator object at 0x108d65258>\n",
      "<_elementtree._element_iterator object at 0x108d65258>\n",
      "<_elementtree._element_iterator object at 0x108d65258>\n",
      "<_elementtree._element_iterator object at 0x108d65258>\n",
      "<_elementtree._element_iterator object at 0x108d65258>\n",
      "<_elementtree._element_iterator object at 0x108d65258>\n",
      "<_elementtree._element_iterator object at 0x108d65258>\n",
      "<_elementtree._element_iterator object at 0x108d65258>\n",
      "<_elementtree._element_iterator object at 0x108d65258>\n",
      "<_elementtree._element_iterator object at 0x108d65258>\n",
      "<_elementtree._element_iterator object at 0x108d65258>\n",
      "<_elementtree._element_iterator object at 0x108d65258>\n",
      "<_elementtree._element_iterator object at 0x108d65258>\n",
      "<_elementtree._element_iterator object at 0x108d65258>\n",
      "<_elementtree._element_iterator object at 0x108d65258>\n",
      "<_elementtree._element_iterator object at 0x108d65258>\n",
      "<_elementtree._element_iterator object at 0x108d65258>\n"
     ]
    }
   ],
   "source": [
    "for event, elem in ET.iterparse(OSMFILE, events=('start',)):\n",
    "    if elem.tag == 'node' or elem.tag == 'way':\n",
    "        print(elem.iter('tag'))"
   ]
  },
  {
   "cell_type": "code",
   "execution_count": 1,
   "metadata": {},
   "outputs": [
    {
     "data": {
      "text/plain": [
       "defaultdict(set,\n",
       "            {'Ave': {'N. Lincoln Ave', 'North Lincoln Ave'},\n",
       "             'Rd.': {'Baldwin Rd.'},\n",
       "             'St.': {'West Lexington St.'}})"
      ]
     },
     "execution_count": 1,
     "metadata": {},
     "output_type": "execute_result"
    }
   ],
   "source": [
    "import xml.etree.cElementTree as ET\n",
    "from collections import defaultdict\n",
    "import re\n",
    "import pprint\n",
    "\n",
    "OSMFILE = \"example.osm\"\n",
    "street_type_re = re.compile(r'\\b\\S+\\.?$', re.IGNORECASE)\n",
    "\n",
    "\n",
    "expected = [\"Street\", \"Avenue\", \"Boulevard\", \"Drive\", \"Court\", \"Place\", \"Square\", \"Lane\", \"Road\", \n",
    "            \"Trail\", \"Parkway\", \"Commons\"]\n",
    "\n",
    "# UPDATE THIS VARIABLE\n",
    "mapping = { \"St\": \"Street\",\n",
    "            \"St.\": \"Street\"\n",
    "            }\n",
    "\n",
    "\n",
    "def audit_street_type(street_types, street_name):\n",
    "    m = street_type_re.search(street_name)\n",
    "    if m:\n",
    "        street_type = m.group()\n",
    "        if street_type not in expected:\n",
    "            street_types[street_type].add(street_name)\n",
    "\n",
    "\n",
    "def is_street_name(elem):\n",
    "    return (elem.attrib['k'] == \"addr:street\")\n",
    "\n",
    "\n",
    "def audit(osmfile):\n",
    "    osm_file = open(osmfile, \"r\")\n",
    "    street_types = defaultdict(set)\n",
    "    for event, elem in ET.iterparse(osm_file, events=(\"start\",)):\n",
    "\n",
    "        if elem.tag == \"node\" or elem.tag == \"way\":\n",
    "            for tag in elem.iter(\"tag\"):\n",
    "                if is_street_name(tag):\n",
    "                    audit_street_type(street_types, tag.attrib['v'])\n",
    "    osm_file.close()\n",
    "    return street_types\n",
    "\n",
    "osm = audit(OSMFILE)\n",
    "osm"
   ]
  },
  {
   "cell_type": "code",
   "execution_count": 4,
   "metadata": {},
   "outputs": [
    {
     "name": "stdout",
     "output_type": "stream",
     "text": [
      "N. Lincoln Ave\n",
      "North Lincoln Ave\n",
      "Baldwin Rd.\n",
      "West Lexington St.\n"
     ]
    }
   ],
   "source": [
    "street_type_re = re.compile(r'\\S+\\.?$', re.IGNORECASE) \n",
    "\n",
    "\n",
    "for event, element in osm.items():\n",
    "    for name in element:\n",
    "        print(name)"
   ]
  },
  {
   "cell_type": "code",
   "execution_count": 7,
   "metadata": {},
   "outputs": [
    {
     "name": "stdout",
     "output_type": "stream",
     "text": [
      "Ave\n",
      "Ave\n",
      "Rd.\n",
      "St.\n"
     ]
    }
   ],
   "source": [
    "street_type_re = re.compile(r'\\S+\\.?$', re.IGNORECASE) \n",
    "\n",
    "\n",
    "for event, element in osm.items():\n",
    "    for name in element:\n",
    "        m = street_type_re.search(name)\n",
    "        print(m.group())"
   ]
  },
  {
   "cell_type": "code",
   "execution_count": 9,
   "metadata": {},
   "outputs": [
    {
     "name": "stdout",
     "output_type": "stream",
     "text": [
      "hi\n",
      "hi\n",
      "hi\n",
      "hi\n"
     ]
    }
   ],
   "source": [
    "expected = [\"Street\", \"Avenue\", \"Boulevard\", \"Drive\", \"Court\", \"Place\", \"Square\", \"Lane\", \"Road\", \n",
    "            \"Trail\", \"Parkway\", \"Commons\"]\n",
    "\n",
    "street_type_re = re.compile(r'\\S+\\.?$', re.IGNORECASE) \n",
    "\n",
    "mapping = { \"St\": \"Street\",\n",
    "            \"St.\": \"Street\",\n",
    "            \"Ave\": \"Avenue\",\n",
    "            \"Rd.\": \"Road\",\n",
    "            }\n",
    "\n",
    "for street_name, value in osm.items():\n",
    "    for name in value:\n",
    "        m = street_type_re.search(name)\n",
    "        if m:\n",
    "            street_type = m.group()\n",
    "            if street_type in mapping.keys():\n",
    "                street_type = mapping[street_type]"
   ]
  },
  {
   "cell_type": "code",
   "execution_count": 71,
   "metadata": {},
   "outputs": [
    {
     "data": {
      "text/plain": [
       "defaultdict(set,\n",
       "            {'Ave': {'N. Lincoln Ave', 'North Lincoln Ave'},\n",
       "             'Rd.': {'Baldwin Rd.'},\n",
       "             'St.': {'West Lexington St.'}})"
      ]
     },
     "execution_count": 71,
     "metadata": {},
     "output_type": "execute_result"
    }
   ],
   "source": [
    "st_types = audit(OSMFILE)\n",
    "st_types"
   ]
  },
  {
   "cell_type": "code",
   "execution_count": 73,
   "metadata": {},
   "outputs": [
    {
     "name": "stdout",
     "output_type": "stream",
     "text": [
      "()\n",
      "()\n",
      "()\n",
      "()\n"
     ]
    }
   ],
   "source": [
    "for key, value in st_types.items():\n",
    "    for name in value:\n",
    "        m = street_type_re.search(name)\n",
    "        print(m.groups())"
   ]
  },
  {
   "cell_type": "code",
   "execution_count": 56,
   "metadata": {},
   "outputs": [
    {
     "name": "stdout",
     "output_type": "stream",
     "text": [
      "Ave {'N. Lincoln Ave', 'North Lincoln Ave'}\n",
      "N. Lincoln Ave\n",
      "North Lincoln Ave\n",
      "Rd. {'Baldwin Rd.'}\n",
      "Baldwin Rd.\n",
      "St. {'West Lexington St.'}\n",
      "West Lexington St.\n",
      "blue blue\n",
      "b\n",
      "l\n",
      "u\n",
      "e\n"
     ]
    }
   ],
   "source": [
    "expected = [\"Street\", \"Avenue\", \"Boulevard\", \"Drive\", \"Court\", \"Place\", \"Square\", \"Lane\", \"Road\", \n",
    "            \"Trail\", \"Parkway\", \"Commons\"]\n",
    "\n",
    "# UPDATE THIS VARIABLE\n",
    "mapping = { \"St\": \"Street\",\n",
    "            \"St.\": \"Street\",\n",
    "            \"Ave\": \"Avenue\",\n",
    "            \"Rd.\": \"Road\",\n",
    "            }\n",
    "\n",
    "for key, value in a.items():\n",
    "    print(key, value)\n",
    "#    for name in value:\n",
    "    for name in value:\n",
    "        print(name)"
   ]
  },
  {
   "cell_type": "code",
   "execution_count": 66,
   "metadata": {},
   "outputs": [
    {
     "name": "stdout",
     "output_type": "stream",
     "text": [
      "N. Lincoln Ave\n",
      "North Lincoln Ave\n",
      "Baldwin Rd.\n",
      "West Lexington St.\n",
      "b\n",
      "l\n",
      "u\n",
      "e\n"
     ]
    }
   ],
   "source": [
    "data = []\n",
    "for st_type, value in a.items():\n",
    "    for name in value:\n",
    "        print(name)"
   ]
  },
  {
   "cell_type": "code",
   "execution_count": 60,
   "metadata": {},
   "outputs": [
    {
     "name": "stdout",
     "output_type": "stream",
     "text": [
      "North Lincoln Ave\n",
      "N. Lincoln Ave\n"
     ]
    }
   ],
   "source": [
    "temp = {'N. Lincoln Ave', 'North Lincoln Ave'}\n",
    "for i in temp:\n",
    "    print(i)"
   ]
  },
  {
   "cell_type": "code",
   "execution_count": 65,
   "metadata": {},
   "outputs": [
    {
     "data": {
      "text/plain": [
       "{'St': 'Street', 'St.': 'Street', 'Ave': 'Avenue', 'Rd.': 'Road'}"
      ]
     },
     "execution_count": 65,
     "metadata": {},
     "output_type": "execute_result"
    }
   ],
   "source": [
    "mapping"
   ]
  },
  {
   "cell_type": "code",
   "execution_count": 63,
   "metadata": {},
   "outputs": [
    {
     "data": {
      "text/plain": [
       "[{'N. Lincoln Ave', 'North Lincoln Ave'},\n",
       " {'Baldwin Rd.'},\n",
       " {'West Lexington St.'},\n",
       " 'blue']"
      ]
     },
     "execution_count": 63,
     "metadata": {},
     "output_type": "execute_result"
    }
   ],
   "source": [
    "data"
   ]
  },
  {
   "cell_type": "code",
   "execution_count": 64,
   "metadata": {},
   "outputs": [
    {
     "ename": "TypeError",
     "evalue": "'set' object does not support indexing",
     "output_type": "error",
     "traceback": [
      "\u001b[0;31m---------------------------------------------------------------------------\u001b[0m",
      "\u001b[0;31mTypeError\u001b[0m                                 Traceback (most recent call last)",
      "\u001b[0;32m<ipython-input-64-c99749ffa377>\u001b[0m in \u001b[0;36m<module>\u001b[0;34m()\u001b[0m\n\u001b[1;32m      1\u001b[0m \u001b[0mp\u001b[0m \u001b[0;34m=\u001b[0m \u001b[0;34m{\u001b[0m\u001b[0;34m'N. Lincoln Ave'\u001b[0m\u001b[0;34m,\u001b[0m \u001b[0;34m'North Lincoln Ave'\u001b[0m\u001b[0;34m}\u001b[0m\u001b[0;34m\u001b[0m\u001b[0m\n\u001b[0;32m----> 2\u001b[0;31m \u001b[0mp\u001b[0m\u001b[0;34m[\u001b[0m\u001b[0;36m0\u001b[0m\u001b[0;34m]\u001b[0m\u001b[0;34m\u001b[0m\u001b[0m\n\u001b[0m",
      "\u001b[0;31mTypeError\u001b[0m: 'set' object does not support indexing"
     ]
    }
   ],
   "source": [
    "p = {'N. Lincoln Ave', 'North Lincoln Ave'}\n"
   ]
  },
  {
   "cell_type": "code",
   "execution_count": null,
   "metadata": {},
   "outputs": [],
   "source": []
  }
 ],
 "metadata": {
  "kernelspec": {
   "display_name": "Python 3",
   "language": "python",
   "name": "python3"
  },
  "language_info": {
   "codemirror_mode": {
    "name": "ipython",
    "version": 3
   },
   "file_extension": ".py",
   "mimetype": "text/x-python",
   "name": "python",
   "nbconvert_exporter": "python",
   "pygments_lexer": "ipython3",
   "version": "3.6.5"
  }
 },
 "nbformat": 4,
 "nbformat_minor": 2
}
