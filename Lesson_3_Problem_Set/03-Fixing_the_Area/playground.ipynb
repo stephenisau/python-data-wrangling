{
 "cells": [
  {
   "cell_type": "code",
   "execution_count": 2,
   "metadata": {},
   "outputs": [],
   "source": [
    "import codecs\n",
    "import csv\n",
    "import json\n",
    "import pprint\n",
    "\n",
    "CITIES = 'cities.csv'\n"
   ]
  },
  {
   "cell_type": "code",
   "execution_count": 3,
   "metadata": {},
   "outputs": [],
   "source": [
    "DATA = []\n",
    "area = {}\n",
    "with open(CITIES, 'r') as f:\n",
    "    reader = csv.DictReader(f)\n",
    "    header = reader.fieldnames\n",
    "    for line in reader:\n",
    "        area['areaLand'] = line['areaLand']\n",
    "        DATA.append(area)"
   ]
  },
  {
   "cell_type": "code",
   "execution_count": 8,
   "metadata": {},
   "outputs": [
    {
     "data": {
      "text/plain": [
       "[{'areaLand': '{1.20175e+07|1.202e+07}'},\n",
       " {'areaLand': '{1.20175e+07|1.202e+07}'},\n",
       " {'areaLand': '{1.20175e+07|1.202e+07}'},\n",
       " {'areaLand': '{1.20175e+07|1.202e+07}'},\n",
       " {'areaLand': '{1.20175e+07|1.202e+07}'},\n",
       " {'areaLand': '{1.20175e+07|1.202e+07}'},\n",
       " {'areaLand': '{1.20175e+07|1.202e+07}'},\n",
       " {'areaLand': '{1.20175e+07|1.202e+07}'},\n",
       " {'areaLand': '{1.20175e+07|1.202e+07}'},\n",
       " {'areaLand': '{1.20175e+07|1.202e+07}'},\n",
       " {'areaLand': '{1.20175e+07|1.202e+07}'},\n",
       " {'areaLand': '{1.20175e+07|1.202e+07}'},\n",
       " {'areaLand': '{1.20175e+07|1.202e+07}'},\n",
       " {'areaLand': '{1.20175e+07|1.202e+07}'},\n",
       " {'areaLand': '{1.20175e+07|1.202e+07}'},\n",
       " {'areaLand': '{1.20175e+07|1.202e+07}'},\n",
       " {'areaLand': '{1.20175e+07|1.202e+07}'},\n",
       " {'areaLand': '{1.20175e+07|1.202e+07}'},\n",
       " {'areaLand': '{1.20175e+07|1.202e+07}'},\n",
       " {'areaLand': '{1.20175e+07|1.202e+07}'},\n",
       " {'areaLand': '{1.20175e+07|1.202e+07}'},\n",
       " {'areaLand': '{1.20175e+07|1.202e+07}'},\n",
       " {'areaLand': '{1.20175e+07|1.202e+07}'},\n",
       " {'areaLand': '{1.20175e+07|1.202e+07}'},\n",
       " {'areaLand': '{1.20175e+07|1.202e+07}'},\n",
       " {'areaLand': '{1.20175e+07|1.202e+07}'},\n",
       " {'areaLand': '{1.20175e+07|1.202e+07}'},\n",
       " {'areaLand': '{1.20175e+07|1.202e+07}'},\n",
       " {'areaLand': '{1.20175e+07|1.202e+07}'},\n",
       " {'areaLand': '{1.20175e+07|1.202e+07}'},\n",
       " {'areaLand': '{1.20175e+07|1.202e+07}'},\n",
       " {'areaLand': '{1.20175e+07|1.202e+07}'},\n",
       " {'areaLand': '{1.20175e+07|1.202e+07}'},\n",
       " {'areaLand': '{1.20175e+07|1.202e+07}'},\n",
       " {'areaLand': '{1.20175e+07|1.202e+07}'},\n",
       " {'areaLand': '{1.20175e+07|1.202e+07}'},\n",
       " {'areaLand': '{1.20175e+07|1.202e+07}'},\n",
       " {'areaLand': '{1.20175e+07|1.202e+07}'},\n",
       " {'areaLand': '{1.20175e+07|1.202e+07}'},\n",
       " {'areaLand': '{1.20175e+07|1.202e+07}'},\n",
       " {'areaLand': '{1.20175e+07|1.202e+07}'},\n",
       " {'areaLand': '{1.20175e+07|1.202e+07}'}]"
      ]
     },
     "execution_count": 8,
     "metadata": {},
     "output_type": "execute_result"
    }
   ],
   "source": [
    "DATA"
   ]
  },
  {
   "cell_type": "code",
   "execution_count": 9,
   "metadata": {},
   "outputs": [
    {
     "data": {
      "text/plain": [
       "'{1.20175e+07|1.202e+07}'"
      ]
     },
     "execution_count": 9,
     "metadata": {},
     "output_type": "execute_result"
    }
   ],
   "source": [
    "a = DATA[0]['areaLand']\n",
    "a"
   ]
  },
  {
   "cell_type": "code",
   "execution_count": 10,
   "metadata": {},
   "outputs": [
    {
     "data": {
      "text/plain": [
       "str"
      ]
     },
     "execution_count": 10,
     "metadata": {},
     "output_type": "execute_result"
    }
   ],
   "source": [
    "type(a)"
   ]
  },
  {
   "cell_type": "code",
   "execution_count": 11,
   "metadata": {},
   "outputs": [
    {
     "data": {
      "text/plain": [
       "['1.20175e+07', '1.202e+07']"
      ]
     },
     "execution_count": 11,
     "metadata": {},
     "output_type": "execute_result"
    }
   ],
   "source": [
    "newstring = ''\n",
    "A = a.replace('{', '').replace('}','').split('|')\n",
    "A"
   ]
  },
  {
   "cell_type": "code",
   "execution_count": 12,
   "metadata": {},
   "outputs": [
    {
     "name": "stdout",
     "output_type": "stream",
     "text": [
      "12017500.0\n",
      "12020000.0\n"
     ]
    }
   ],
   "source": [
    "for i in A:\n",
    "    i = float(i)\n",
    "    print(i)"
   ]
  },
  {
   "cell_type": "code",
   "execution_count": null,
   "metadata": {},
   "outputs": [],
   "source": []
  }
 ],
 "metadata": {
  "kernelspec": {
   "display_name": "Python 3",
   "language": "python",
   "name": "python3"
  },
  "language_info": {
   "codemirror_mode": {
    "name": "ipython",
    "version": 3
   },
   "file_extension": ".py",
   "mimetype": "text/x-python",
   "name": "python",
   "nbconvert_exporter": "python",
   "pygments_lexer": "ipython3",
   "version": "3.6.5"
  }
 },
 "nbformat": 4,
 "nbformat_minor": 2
}
